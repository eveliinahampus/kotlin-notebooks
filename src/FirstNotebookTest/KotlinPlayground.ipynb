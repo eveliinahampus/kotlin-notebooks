{
 "cells": [
  {
   "cell_type": "code",
   "metadata": {
    "collapsed": true,
    "ExecuteTime": {
     "end_time": "2024-12-29T14:00:40.539641513Z",
     "start_time": "2024-12-29T14:00:40.435714280Z"
    }
   },
   "source": [
    "val name = \"Kotlin\"    // Immutable\n",
    "var age = 5            // Mutable\n",
    "age = 6                // Allowed"
   ],
   "outputs": [],
   "execution_count": 3
  },
  {
   "metadata": {
    "ExecuteTime": {
     "end_time": "2024-12-29T14:00:54.696064114Z",
     "start_time": "2024-12-29T14:00:54.555926585Z"
    }
   },
   "cell_type": "code",
   "source": "println(name + age)",
   "outputs": [
    {
     "name": "stdout",
     "output_type": "stream",
     "text": [
      "Kotlin6\n"
     ]
    }
   ],
   "execution_count": 4
  }
 ],
 "metadata": {
  "kernelspec": {
   "display_name": "Kotlin",
   "language": "kotlin",
   "name": "kotlin"
  },
  "language_info": {
   "name": "kotlin",
   "version": "1.9.23",
   "mimetype": "text/x-kotlin",
   "file_extension": ".kt",
   "pygments_lexer": "kotlin",
   "codemirror_mode": "text/x-kotlin",
   "nbconvert_exporter": ""
  }
 },
 "nbformat": 4,
 "nbformat_minor": 0
}
